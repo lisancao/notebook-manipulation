{
 "cells": [
  {
   "cell_type": "markdown",
   "metadata": {},
   "source": [
    "# Removing .DS_Store files and .ipynb_checkpoints folders"
   ]
  },
  {
   "cell_type": "code",
   "execution_count": null,
   "metadata": {},
   "outputs": [],
   "source": [
    "import os\n",
    "import shutil\n",
    "\n",
    "for root, dirs, files in os.walk(\".\"):\n",
    "    for filename in files:\n",
    "        if filename == '.DS_Store':\n",
    "            print(os.path.join(root, filename))                \n",
    "        #if '-checkpoint.ipynb' in filename:\n",
    "        if 'checkpoints' in root:\n",
    "            print(os.path.join(root, filename))"
   ]
  },
  {
   "cell_type": "code",
   "execution_count": null,
   "metadata": {},
   "outputs": [],
   "source": [
    "import os\n",
    "import shutil\n",
    "\n",
    "for root, dirs, files in os.walk(\".\"):\n",
    "    for filename in files:\n",
    "        if filename == '.DS_Store':\n",
    "            print(os.path.join(root, filename))                \n",
    "            os.remove(os.path.join(root, filename))\n",
    "        if 'checkpoints' in root:\n",
    "            print(os.path.join(root, filename))\n",
    "            try:\n",
    "                  shutil.rmtree(root)\n",
    "            except:\n",
    "                  print('Folder already deleted')"
   ]
  }
 ],
 "metadata": {
  "kernelspec": {
   "display_name": "Python 3",
   "language": "python",
   "name": "python3"
  },
  "language_info": {
   "codemirror_mode": {
    "name": "ipython",
    "version": 3
   },
   "file_extension": ".py",
   "mimetype": "text/x-python",
   "name": "python",
   "nbconvert_exporter": "python",
   "pygments_lexer": "ipython3",
   "version": "3.7.6"
  }
 },
 "nbformat": 4,
 "nbformat_minor": 4
}
