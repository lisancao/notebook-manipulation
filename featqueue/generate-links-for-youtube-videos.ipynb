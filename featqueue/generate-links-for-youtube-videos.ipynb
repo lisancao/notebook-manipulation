{
 "cells": [
  {
   "cell_type": "markdown",
   "metadata": {},
   "source": [
    "![Callysto.ca Banner](https://github.com/callysto/curriculum-notebooks/blob/master/callysto-notebook-banner-top.jpg?raw=true)"
   ]
  },
  {
   "cell_type": "markdown",
   "metadata": {},
   "source": [
    "# Generate Links for YouTube Videos"
   ]
  },
  {
   "cell_type": "code",
   "execution_count": 4,
   "metadata": {},
   "outputs": [],
   "source": [
    "def nbg(notebook_name):\n",
    "    a = 'https://hub.callysto.ca/jupyter/hub/user-redirect/git-pull?repo='\n",
    "    repo_path = 'https%3A%2F%2Fgithub.com%2Fcallysto%2Finteresting-problems&branch=main'\n",
    "    nbgitpuller_url = a+repo_path+'&subPath=notebooks/'+notebook_name+'&depth=1'\n",
    "    return nbgitpuller_url"
   ]
  },
  {
   "cell_type": "code",
   "execution_count": 25,
   "metadata": {},
   "outputs": [
    {
     "name": "stdout",
     "output_type": "stream",
     "text": [
      "Notebook: https://github.com/callysto/interesting-problems/tree/main/notebooks/lockers-open-close.ipynb\n",
      "\n",
      "Open in Callysto Hub: https://hub.callysto.ca/jupyter/hub/user-redirect/git-pull?repo=https%3A%2F%2Fgithub.com%2Fcallysto%2Finteresting-problems&branch=main&subPath=notebooks/lockers-open-close.ipynb&depth=1\n",
      "\n",
      "Open in Colab: https://colab.research.google.com/github/callysto/interesting-problems/blob/main/notebooks/lockers-open-close.ipynb\n"
     ]
    }
   ],
   "source": [
    "notebook_name = 'lockers-open-close.ipynb'\n",
    "\n",
    "print('Notebook:', 'https://github.com/callysto/interesting-problems/tree/main/notebooks/'+notebook_name)\n",
    "print('')\n",
    "print('Open in Callysto Hub:', nbg(notebook_name))\n",
    "print('')\n",
    "print('Open in Colab:', 'https://colab.research.google.com/github/callysto/interesting-problems/blob/main/notebooks/'+notebook_name)"
   ]
  },
  {
   "cell_type": "markdown",
   "metadata": {},
   "source": [
    "[![Callysto.ca License](https://github.com/callysto/curriculum-notebooks/blob/master/callysto-notebook-banner-bottom.jpg?raw=true)](https://github.com/callysto/curriculum-notebooks/blob/master/LICENSE.md)"
   ]
  }
 ],
 "metadata": {
  "kernelspec": {
   "display_name": "Python 3",
   "language": "python",
   "name": "python3"
  },
  "language_info": {
   "codemirror_mode": {
    "name": "ipython",
    "version": 3
   },
   "file_extension": ".py",
   "mimetype": "text/x-python",
   "name": "python",
   "nbconvert_exporter": "python",
   "pygments_lexer": "ipython3",
   "version": "3.7.6"
  }
 },
 "nbformat": 4,
 "nbformat_minor": 4
}
