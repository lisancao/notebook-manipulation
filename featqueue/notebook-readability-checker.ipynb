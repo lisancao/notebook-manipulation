{
 "cells": [
  {
   "cell_type": "markdown",
   "metadata": {},
   "source": [
    "![Callysto.ca Banner](https://github.com/callysto/curriculum-notebooks/blob/master/callysto-notebook-banner-top.jpg?raw=true)"
   ]
  },
  {
   "cell_type": "markdown",
   "metadata": {},
   "source": [
    "# Notebook Readability Checker"
   ]
  },
  {
   "cell_type": "code",
   "execution_count": null,
   "metadata": {},
   "outputs": [],
   "source": [
    "import os\n",
    "import json\n",
    "import pandas as pd\n",
    "#!pip install --user textstat # https://github.com/shivam5992/textstat\n",
    "import textstat"
   ]
  },
  {
   "cell_type": "code",
   "execution_count": null,
   "metadata": {},
   "outputs": [],
   "source": [
    "# https://stackoverflow.com/questions/761824/python-how-to-convert-markdown-formatted-text-to-text\n",
    "#!pip install --user markdown\n",
    "from markdown import Markdown\n",
    "from io import StringIO\n",
    "\n",
    "def unmark_element(element, stream=None):\n",
    "    if stream is None:\n",
    "        stream = StringIO()\n",
    "    if element.text:\n",
    "        stream.write(element.text)\n",
    "    for sub in element:\n",
    "        unmark_element(sub, stream)\n",
    "    if element.tail:\n",
    "        stream.write(element.tail)\n",
    "    return stream.getvalue()\n",
    "\n",
    "# patching Markdown\n",
    "Markdown.output_formats[\"plain\"] = unmark_element\n",
    "__md = Markdown(output_format=\"plain\")\n",
    "__md.stripTopLevelTags = False\n",
    "\n",
    "def unmark(text):\n",
    "    return __md.convert(text)"
   ]
  },
  {
   "cell_type": "code",
   "execution_count": null,
   "metadata": {},
   "outputs": [],
   "source": [
    "df = pd.DataFrame(columns=['Notebook', 'Cell Number', 'Readability', 'Text'])\n",
    "\n",
    "for root, dirs, files in os.walk(\".\"):\n",
    "    for filename in files:\n",
    "        if filename.endswith('.ipynb'):\n",
    "            notebook_name = filename[:-6]\n",
    "            file = os.path.join(root, filename)\n",
    "            notebook = json.load(open(file))\n",
    "            cell_number = 0\n",
    "            for cell in notebook['cells']:\n",
    "                cell_number += 1\n",
    "                cell_type = cell['cell_type']\n",
    "                if cell_type == 'markdown':\n",
    "                    #text = cell['source'][0].replace('[', '').replace(']', '').replace('#', '')\n",
    "                    text = unmark(cell['source'][0])\n",
    "                    readability = textstat.text_standard(text, float_output=True) # .flesch_kincaid_grade(text)\n",
    "                    if readability > 0:\n",
    "                        df = df.append({\n",
    "                            'Notebook':notebook_name,\n",
    "                            'Cell Number':cell_number,\n",
    "                            'Readability':readability,\n",
    "                            'Text':text},\n",
    "                            ignore_index=True)\n",
    "df"
   ]
  },
  {
   "cell_type": "code",
   "execution_count": null,
   "metadata": {},
   "outputs": [],
   "source": [
    "readability_df = pd.DataFrame()\n",
    "for n in df['Notebook'].unique():\n",
    "    notebook_readabilty = df[df['Notebook']==n]['Readability']\n",
    "    readability_mean = notebook_readabilty.mean()\n",
    "    readability_max = notebook_readabilty.max()\n",
    "    #print(n, readability_mean, readability_max)\n",
    "    readability_df = readability_df.append({'Notebook':n,'Mean':readability_mean,'Max':readability_max}, ignore_index=True)\n",
    "readability_df"
   ]
  },
  {
   "cell_type": "code",
   "execution_count": null,
   "metadata": {},
   "outputs": [],
   "source": [
    "for root, dirs, files in os.walk(\".\"):\n",
    "    for filename in files:\n",
    "        if filename.endswith('.ipynb'):\n",
    "            file = os.path.join(root, filename)\n",
    "            notebook = json.load(open(file))\n",
    "            print(file)\n",
    "            #print(len(notebook['cells']))\n",
    "            #print(notebook['cells'][0]['source'])\n",
    "            print(notebook['cells'][-1]['source'])\n",
    "            print('')"
   ]
  },
  {
   "cell_type": "markdown",
   "metadata": {},
   "source": [
    "[![Callysto.ca License](https://github.com/callysto/curriculum-notebooks/blob/master/callysto-notebook-banner-bottom.jpg?raw=true)](https://github.com/callysto/curriculum-notebooks/blob/master/LICENSE.md)"
   ]
  }
 ],
 "metadata": {
  "kernelspec": {
   "display_name": "Python 3",
   "language": "python",
   "name": "python3"
  },
  "language_info": {
   "codemirror_mode": {
    "name": "ipython",
    "version": 3
   },
   "file_extension": ".py",
   "mimetype": "text/x-python",
   "name": "python",
   "nbconvert_exporter": "python",
   "pygments_lexer": "ipython3",
   "version": "3.7.6"
  }
 },
 "nbformat": 4,
 "nbformat_minor": 2
}
