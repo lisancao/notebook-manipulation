{
 "cells": [
  {
   "cell_type": "markdown",
   "metadata": {},
   "source": [
    "## Callysto Notebook Flagger (Java, HTML, iPython, Geogebra)\n",
    "\n",
    "**Description**: This is a notebook that iterates through directory files and returns whether or not they contain any javascript, html, ipython widgets, or geogebra references. It is being used for Jupyterlab migration and general bugfixing.\n",
    "\n",
    "**Usage**: Run this notebook in the parent directory containing the notebooks or in the directory itself.\n",
    "\n",
    "**Notes**: Generates output log\n",
    "\n",
    "Last Edited: June 29, 2020\n",
    "\n",
    "Author: LNC\n",
    "\n",
    "Contact: lisa.cao@cybera.ca"
   ]
  },
  {
   "cell_type": "code",
   "execution_count": 290,
   "metadata": {},
   "outputs": [],
   "source": [
    "#import libraries\n",
    "import os \n",
    "import re\n",
    "import json\n",
    "import pandas as pd"
   ]
  },
  {
   "cell_type": "code",
   "execution_count": 295,
   "metadata": {
    "scrolled": true
   },
   "outputs": [],
   "source": [
    "#create datafame - for later \n",
    "#df = pd.DataFrame(columns=['Javascript', 'Extension Needed', 'Geogebra', 'HTML'], index =[\"Notebook\"])"
   ]
  },
  {
   "cell_type": "code",
   "execution_count": 296,
   "metadata": {},
   "outputs": [],
   "source": [
    "def cell_tagger(contents): \n",
    "    java = r\"java | javascript | \\.js\"\n",
    "    html = r\"html | \\/\\> | \"\n",
    "    ggb = r\"ggb | geogebra\"\n",
    "    lib = r\"ipython | iplot | qgrid\" \n",
    "    tagsdict = {\"Java\": java, \n",
    "                \"HTML\": html,\n",
    "                \"Geogebra\": ggb, \n",
    "                \"iPython, iPlot, or qgrid\": lib}\n",
    "    tags = [java, html, ggb, lib]\n",
    "    printout = []\n",
    "    for tag, code in tagsdict.items(): \n",
    "        regex = re.compile(code)\n",
    "        if bool(re.search(code, contents)) == True: # find all instances   \n",
    "            printout.append(tag)\n",
    "        else: \n",
    "            pass\n",
    "    return printout"
   ]
  },
  {
   "cell_type": "code",
   "execution_count": 297,
   "metadata": {},
   "outputs": [],
   "source": [
    "## search through all directories and parse cells\n",
    "def langtag():\n",
    "    for root, dirs, files in os.walk(\".\"):\n",
    "        for filename in files:\n",
    "            if filename.endswith('.ipynb'): # select notebooks\n",
    "                file = os.path.join(root, filename)\n",
    "                notebook = json.load(open(file)) # load notebook json\n",
    "                cell_number = 0\n",
    "                for cell in notebook['cells']:\n",
    "                    cell_number += 1 # cell counter for output\n",
    "                    with open(\"langtag_ouput.txt\", \"a\") as out: \n",
    "                        try:\n",
    "                            cell_contents = cell['source'][0] # parse json\n",
    "                            cell_tags = cell_tagger(cell_contents)\n",
    "                            if cell_tags:\n",
    "                                print(filename, \"Cell\", cell_number, \"contains\", cell_tags, file = out)\n",
    "                            else:\n",
    "                                pass\n",
    "                        except:\n",
    "                            pass\n",
    "                out.close()"
   ]
  },
  {
   "cell_type": "code",
   "execution_count": 298,
   "metadata": {},
   "outputs": [],
   "source": [
    "langtag()"
   ]
  }
 ],
 "metadata": {
  "kernelspec": {
   "display_name": "Python 3",
   "language": "python",
   "name": "python3"
  },
  "language_info": {
   "codemirror_mode": {
    "name": "ipython",
    "version": 3
   },
   "file_extension": ".py",
   "mimetype": "text/x-python",
   "name": "python",
   "nbconvert_exporter": "python",
   "pygments_lexer": "ipython3",
   "version": "3.7.6"
  }
 },
 "nbformat": 4,
 "nbformat_minor": 4
}
