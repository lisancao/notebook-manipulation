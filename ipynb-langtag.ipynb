{
 "cells": [
  {
   "cell_type": "markdown",
   "metadata": {},
   "source": [
    "## Callysto Notebook Flagger (Java, HTML, iPython, Geogebra)\n",
    "\n",
    "**Description**: This is a notebook that iterates through directory files and returns whether or not they contain any javascript, html, ipython widgets, or geogebra references. It is being used for Jupyterlab migration and general bugfixing.\n",
    "\n",
    "**Usage**: Run this notebook in the parent directory containing the notebooks or in the directory itself.\n",
    "\n",
    "**Notes**: Generates output log\n",
    "\n",
    "Last Edited: June 25, 2020\n",
    "\n",
    "Author: LNC\n",
    "\n",
    "Contact: lisa.cao@cybera.ca"
   ]
  },
  {
   "cell_type": "code",
   "execution_count": 97,
   "metadata": {},
   "outputs": [],
   "source": [
    "#import libraries\n",
    "import os \n",
    "import re\n",
    "import json\n",
    "import pandas as pd"
   ]
  },
  {
   "cell_type": "code",
   "execution_count": 10,
   "metadata": {
    "scrolled": true
   },
   "outputs": [
    {
     "data": {
      "text/html": [
       "<div>\n",
       "<style scoped>\n",
       "    .dataframe tbody tr th:only-of-type {\n",
       "        vertical-align: middle;\n",
       "    }\n",
       "\n",
       "    .dataframe tbody tr th {\n",
       "        vertical-align: top;\n",
       "    }\n",
       "\n",
       "    .dataframe thead th {\n",
       "        text-align: right;\n",
       "    }\n",
       "</style>\n",
       "<table border=\"1\" class=\"dataframe\">\n",
       "  <thead>\n",
       "    <tr style=\"text-align: right;\">\n",
       "      <th></th>\n",
       "      <th>Javascript</th>\n",
       "      <th>Extension Needed</th>\n",
       "      <th>Geogebra</th>\n",
       "      <th>HTML</th>\n",
       "    </tr>\n",
       "  </thead>\n",
       "  <tbody>\n",
       "    <tr>\n",
       "      <th>Notebook</th>\n",
       "      <td>NaN</td>\n",
       "      <td>NaN</td>\n",
       "      <td>NaN</td>\n",
       "      <td>NaN</td>\n",
       "    </tr>\n",
       "  </tbody>\n",
       "</table>\n",
       "</div>"
      ],
      "text/plain": [
       "         Javascript Extension Needed Geogebra HTML\n",
       "Notebook        NaN              NaN      NaN  NaN"
      ]
     },
     "execution_count": 10,
     "metadata": {},
     "output_type": "execute_result"
    }
   ],
   "source": [
    "#create datafame \n",
    "df = pd.DataFrame(columns=['Javascript', 'Extension Needed', 'Geogebra', 'HTML'], index =[\"Notebook\"])\n",
    "df"
   ]
  },
  {
   "cell_type": "code",
   "execution_count": 154,
   "metadata": {},
   "outputs": [
    {
     "data": {
      "text/plain": [
       "['Java']"
      ]
     },
     "execution_count": 154,
     "metadata": {},
     "output_type": "execute_result"
    }
   ],
   "source": [
    "def cell_tagger(contents): \n",
    "    java = r\"java | javascript | \\.js\"\n",
    "    html = r\"html | \\/\\> \"\n",
    "    ggb = r\"ggb | geogebra\"\n",
    "    lib = r\"ipython | iplot | qgrid\" \n",
    "    tagsdict = {\"Java\": java, \n",
    "                \"HTML\": html,\n",
    "                \"Geogebra\": ggb, \n",
    "                \"iPython, iPlot, or qgrid\": lib}\n",
    "    tags = [java, html, ggb, lib]\n",
    "    printout = []\n",
    "    for tag, code in tagsdict.items(): \n",
    "        regex = re.compile(code)\n",
    "        if bool(re.search(code, contents)) == True: # find all instances   \n",
    "            printout.append(tag)\n",
    "            return printout\n",
    "        else: \n",
    "            return None\n",
    "    print(printout)\n",
    "                \n",
    "cell_tagger(string)"
   ]
  },
  {
   "cell_type": "code",
   "execution_count": 155,
   "metadata": {},
   "outputs": [],
   "source": [
    "## search through all directories and parse cells\n",
    "def langtag():\n",
    "    for root, dirs, files in os.walk(\".\"):\n",
    "        for filename in files:\n",
    "            if filename.endswith('.ipynb'): # select notebooks\n",
    "                file = os.path.join(root, filename)\n",
    "                notebook = json.load(open(file)) # load notebook json\n",
    "                cell_number = 0\n",
    "                try:\n",
    "                    for cell in notebook['cells']:\n",
    "                        cell_number += 1 # cell counter for output\n",
    "                        cell_contents = cell['source'][0] # parse json\n",
    "                        cell_tags = cell_tagger(cell_contents)\n",
    "                        if cell_tags is not None:\n",
    "                            info = [cell_number, cell_tags]\n",
    "                            print(file, \"contains\", info)\n",
    "                        else:\n",
    "                            continue\n",
    "                except IndexError: \n",
    "                    pass\n",
    "\n",
    "                        \n",
    "                    \n",
    "langtag()"
   ]
  }
 ],
 "metadata": {
  "kernelspec": {
   "display_name": "Python 3",
   "language": "python",
   "name": "python3"
  },
  "language_info": {
   "codemirror_mode": {
    "name": "ipython",
    "version": 3
   },
   "file_extension": ".py",
   "mimetype": "text/x-python",
   "name": "python",
   "nbconvert_exporter": "python",
   "pygments_lexer": "ipython3",
   "version": "3.7.6"
  }
 },
 "nbformat": 4,
 "nbformat_minor": 4
}
