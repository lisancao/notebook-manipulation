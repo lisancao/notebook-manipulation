{
 "cells": [
  {
   "cell_type": "markdown",
   "metadata": {},
   "source": [
    "## Callysto Notebook Tagger (Java, HTML, iPython, Geogebra)\n",
    "\n",
    "**Description**: This is a notebook that iterates through directory files and returns whether or not they contain any javascript, html, ipython widgets, or geogebra references. It is being used for Jupyterlab migration and general bugfixing.\n",
    "\n",
    "**Usage**: Run this notebook in the parent directory containing the notebooks or in the directory itself. run langtag() before clean_langtag()\n",
    "\n",
    "**Notes**: Generates raw log for read/writing - not human readable. Also not optimized but good enough for my purposes.\n",
    "\n",
    "Last Edited: June 29, 2020\n",
    "\n",
    "Author: LNC\n",
    "\n",
    "Contact: lisa.cao@cybera.ca"
   ]
  },
  {
   "cell_type": "code",
   "execution_count": null,
   "metadata": {},
   "outputs": [],
   "source": [
    "#import libraries\n",
    "import os \n",
    "import re\n",
    "import json"
   ]
  },
  {
   "cell_type": "code",
   "execution_count": null,
   "metadata": {
    "scrolled": true
   },
   "outputs": [],
   "source": [
    "#create datafame - for later feature\n",
    "#import pandas as pd\n",
    "#df = pd.DataFrame(columns=['Javascript', 'Extension Needed', 'Geogebra', 'HTML'], index =[\"Notebook\"])"
   ]
  },
  {
   "cell_type": "code",
   "execution_count": null,
   "metadata": {},
   "outputs": [],
   "source": [
    "# use regex to detect language references\n",
    "def cell_tagger(contents): \n",
    "    java = r\"java|javascript|\\.js\"\n",
    "    html = r\"html|.(\\/\\>)\"\n",
    "    ggb = r\"ggb|geogebra\"\n",
    "    lib = r\"ipython|iplot|qgrid\" \n",
    "    tagsdict = {\"Java\": java, \n",
    "                \"HTML\": html,\n",
    "                \"Geogebra\": ggb, \n",
    "                \"iPython, iPlot, or qgrid\": lib}\n",
    "    tags = [java, html, ggb, lib]\n",
    "    printout = []\n",
    "    for tag, code in tagsdict.items(): \n",
    "        regex = re.compile(code)\n",
    "        if bool(re.search(code, contents)) == True: # find all instances   \n",
    "            printout.append(tag)\n",
    "        else: \n",
    "            pass\n",
    "    return printout"
   ]
  },
  {
   "cell_type": "code",
   "execution_count": null,
   "metadata": {},
   "outputs": [],
   "source": [
    "# search through all source code in cells and detect if contains language \n",
    "def langtag():\n",
    "    for root, dirs, files in os.walk(\".\"):\n",
    "        for filename in files:\n",
    "            if filename.endswith('.ipynb'): # select notebooks\n",
    "                file = os.path.join(root, filename)\n",
    "                notebook = json.load(open(file)) # load notebook json\n",
    "                cell_number = 0\n",
    "                file_contains = []\n",
    "                with open(\"langtag_ouput.txt\", \"a\") as out: \n",
    "                    for cell in notebook['cells']:\n",
    "                        cell_number += 1 # cell counter for output\n",
    "                        try:\n",
    "                            cell_contents = cell['source'][0] # parse json\n",
    "                            cell_tags = cell_tagger(cell_contents)\n",
    "                            if cell_tags:\n",
    "                                file_contains.append([cell_number, cell_tags])\n",
    "                            else:\n",
    "                                pass\n",
    "                        except:\n",
    "                            pass\n",
    "                    print(file_contains)\n",
    "                    if file_contains != []:\n",
    "                        print(filename, \"cell flags\", file_contains, file = out)\n",
    "                out.close()"
   ]
  },
  {
   "cell_type": "code",
   "execution_count": null,
   "metadata": {},
   "outputs": [],
   "source": [
    "def clean_langtag(): \n",
    "    unique = set() # place for unique lines\n",
    "    with open(\"langtag_ouput.txt\", 'r') as file: \n",
    "        for line in file: \n",
    "            if line not in unique:\n",
    "                unique.add(line)\n",
    "        file.close()\n",
    "    return unique"
   ]
  },
  {
   "cell_type": "code",
   "execution_count": null,
   "metadata": {},
   "outputs": [],
   "source": [
    "langtag"
   ]
  },
  {
   "cell_type": "code",
   "execution_count": null,
   "metadata": {
    "scrolled": false
   },
   "outputs": [],
   "source": [
    "clean_langtag()"
   ]
  }
 ],
 "metadata": {
  "kernelspec": {
   "display_name": "Python 3",
   "language": "python",
   "name": "python3"
  },
  "language_info": {
   "codemirror_mode": {
    "name": "ipython",
    "version": 3
   },
   "file_extension": ".py",
   "mimetype": "text/x-python",
   "name": "python",
   "nbconvert_exporter": "python",
   "pygments_lexer": "ipython3",
   "version": "3.7.6"
  }
 },
 "nbformat": 4,
 "nbformat_minor": 4
}
