{
 "cells": [
  {
   "cell_type": "markdown",
   "metadata": {},
   "source": [
    "## Callysto Course Link Checker \n",
    "\n",
    "**Description**: This is a notebook that iterates through directory files and runs a validation check on the links contained in Jupyter Notebooks. This notebook was written for Callysto internal use.\n",
    "\n",
    "**Usage**: Run this notebook in the parent directory containing the notebooks or in the directory itself.\n",
    "\n",
    "**Notes**: This notebook takes time and you will know when it is done by it's termination statement. It will return only error messages. It is only capable of handling conventional urls starting with https:// or www.\n",
    "\n",
    "Last Edited: June 16, 2020\n",
    "\n",
    "Author: LNC\n",
    "\n",
    "Contact: lisa.cao@cybera.ca"
   ]
  },
  {
   "cell_type": "code",
   "execution_count": null,
   "metadata": {},
   "outputs": [],
   "source": [
    "# run only once if needed\n",
    "# !pip3 install urllib3"
   ]
  },
  {
   "cell_type": "code",
   "execution_count": null,
   "metadata": {},
   "outputs": [],
   "source": [
    "# import libraries/modules - all are default except urllib3\n",
    "import os\n",
    "import json\n",
    "import re\n",
    "import urllib3"
   ]
  },
  {
   "cell_type": "code",
   "execution_count": null,
   "metadata": {},
   "outputs": [],
   "source": [
    "## function to parse urls (from geeksforgeeks)\n",
    "def url_parse(string): \n",
    "    regex = r\"(?i)\\b((?:https?://|www\\d{0,3}[.]|[a-z0-9.\\-]+[.][a-z]{2,4}/)(?:[^\\s()<>]+|\\(([^\\s()<>]+|(\\([^\\s()<>]+\\)))*\\))+(?:\\(([^\\s()<>]+|(\\([^\\s()<>]+\\)))*\\)|[^\\s`!()\\[\\]{};:'\\\".,<>?«»“”‘’]))\"\n",
    "    url = re.findall(regex,string) # find all instances      \n",
    "    return [x[0] for x in url] # append to list"
   ]
  },
  {
   "cell_type": "code",
   "execution_count": null,
   "metadata": {
    "scrolled": true
   },
   "outputs": [],
   "source": [
    "## search through all directories and parse cells\n",
    "def url_check():\n",
    "    for root, dirs, files in os.walk(\".\"):\n",
    "        for filename in files:\n",
    "            if filename.endswith('.ipynb'): # select notebooks\n",
    "                file = os.path.join(root, filename)\n",
    "                notebook = json.load(open(file)) # load notebook json\n",
    "                cell_number = 0\n",
    "                for cell in notebook['cells']:\n",
    "                    cell_number += 1 # cell counter for output\n",
    "                    try:\n",
    "                        cell_contents = cell['source'][0] # parse json\n",
    "                    except IndexError: # error handling for json index out of range\n",
    "                        pass\n",
    "                    cell_urls = url_parse(cell_contents) # extract urls into list\n",
    "                    for url in cell_urls: \n",
    "                        http = urllib3.PoolManager() # init pool - req' for request sending\n",
    "                    try:\n",
    "                        req = http.request('GET', url, timeout = 5.0, retries = False)\n",
    "                        if req.status < 400 or req.status == 429: # assess http status code, note 429 means too many requests\n",
    "                            pass\n",
    "                        else: # for server errors\n",
    "                            print(\"BROKEN URL in\",file, \": Cell\", cell_number, url, \"\\n    HTTP Status:\", req.status, \"\\n\")\n",
    "                    except Exception as e: # for timeout urllib errors and bad url formats\n",
    "                        print(\"BROKEN URL in\",file, \": Cell\", cell_number, url, \"\\n    reason:\", e, \"\\n\")\n",
    "    print(\".. CHECK COMPLETE\")"
   ]
  },
  {
   "cell_type": "code",
   "execution_count": null,
   "metadata": {
    "scrolled": true
   },
   "outputs": [],
   "source": [
    "url_check() "
   ]
  }
 ],
 "metadata": {
  "kernelspec": {
   "display_name": "Python 3",
   "language": "python",
   "name": "python3"
  },
  "language_info": {
   "codemirror_mode": {
    "name": "ipython",
    "version": 3
   },
   "file_extension": ".py",
   "mimetype": "text/x-python",
   "name": "python",
   "nbconvert_exporter": "python",
   "pygments_lexer": "ipython3",
   "version": "3.7.6"
  }
 },
 "nbformat": 4,
 "nbformat_minor": 4
}
