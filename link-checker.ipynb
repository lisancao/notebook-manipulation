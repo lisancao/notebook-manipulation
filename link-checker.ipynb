{
 "cells": [
  {
   "cell_type": "markdown",
   "metadata": {},
   "source": [
    "## Callysto Course Link Checker \n",
    "\n",
    "**Description**: This is a notebook that iterates through directory files and runs a validation check on the links contained in Jupyter Notebooks. This notebook was written for Callysto internal use.\n",
    "\n",
    "**Usage**: Run this notebook in the parent directory containing the notebooks or in the directory itself.\n",
    "\n",
    "**Notes**\n",
    "\n",
    "Last Edited: June 16, 2020\n",
    "\n",
    "Author: LNC\n",
    "\n",
    "Contact: lisa.cao@cybera.ca"
   ]
  },
  {
   "cell_type": "code",
   "execution_count": 28,
   "metadata": {},
   "outputs": [
    {
     "name": "stdout",
     "output_type": "stream",
     "text": [
      "Requirement already satisfied: urllib3 in /Users/lisacao/Library/Python/3.7/lib/python/site-packages (1.25.9)\r\n"
     ]
    }
   ],
   "source": [
    "# install cell run only once if needed\n",
    "# !pip3 install urllib3"
   ]
  },
  {
   "cell_type": "code",
   "execution_count": 31,
   "metadata": {},
   "outputs": [],
   "source": [
    "import os\n",
    "import json\n",
    "import re\n",
    "import urllib3"
   ]
  },
  {
   "cell_type": "code",
   "execution_count": 30,
   "metadata": {},
   "outputs": [],
   "source": [
    "## function to parse urls (from geeksforgeeks)\n",
    "def url_parse(string): \n",
    "    regex = r\"(?i)\\b((?:https?://|www\\d{0,3}[.]|[a-z0-9.\\-]+[.][a-z]{2,4}/)(?:[^\\s()<>]+|\\(([^\\s()<>]+|(\\([^\\s()<>]+\\)))*\\))+(?:\\(([^\\s()<>]+|(\\([^\\s()<>]+\\)))*\\)|[^\\s`!()\\[\\]{};:'\\\".,<>?«»“”‘’]))\"\n",
    "    url = re.findall(regex,string)       \n",
    "    return [x[0] for x in url] "
   ]
  },
  {
   "cell_type": "code",
   "execution_count": 48,
   "metadata": {},
   "outputs": [],
   "source": [
    "# function to check for active urls\n",
    "def web_status(cell_urls): \n",
    "    http = urllib3.PoolManager()\n",
    "    for url in cell_urls: \n",
    "        http.request('GET', urls[i], timeout = 10.0)\n",
    "        if req.status == 200:\n",
    "            pass\n",
    "        else: \n",
    "            error = urllib3.error.URLError\n",
    "            print(error.reason)\n",
    "        \n",
    "            "
   ]
  },
  {
   "cell_type": "code",
   "execution_count": null,
   "metadata": {},
   "outputs": [],
   "source": [
    "## search through all directories and parse cells\n",
    "for root, dirs, files in os.walk(\".\"):\n",
    "    for filename in files:\n",
    "        if filename.endswith('.ipynb'):\n",
    "            notebook_name = filename[:-6]\n",
    "            file = os.path.join(root, filename)\n",
    "            notebook = json.load(open(file))\n",
    "            cell_number = 0\n",
    "            for cell in notebook['cells']:\n",
    "                cell_number += 1\n",
    "                ####\n",
    "                cell_contents = cell['source'][0]\n",
    "                cell_urls = url_parse(cell_contents)\n",
    "                \n",
    "                #### \n",
    "                if link_valid == FALSE: \n",
    "                    print(+notebook_name+\":Cell\"+cell_number+\"contains broken links\") #add url link?\n",
    "                    ###\n",
    "                    if link_valid == TRUE: \n",
    "                        \n",
    "                    \n",
    "                \n",
    "                "
   ]
  }
 ],
 "metadata": {
  "kernelspec": {
   "display_name": "Python 3",
   "language": "python",
   "name": "python3"
  },
  "language_info": {
   "codemirror_mode": {
    "name": "ipython",
    "version": 3
   },
   "file_extension": ".py",
   "mimetype": "text/x-python",
   "name": "python",
   "nbconvert_exporter": "python",
   "pygments_lexer": "ipython3",
   "version": "3.7.6"
  }
 },
 "nbformat": 4,
 "nbformat_minor": 4
}
