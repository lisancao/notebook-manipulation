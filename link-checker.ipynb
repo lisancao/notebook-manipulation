{
 "cells": [
  {
   "cell_type": "markdown",
   "metadata": {},
   "source": [
    "## Callysto Course Link Checker \n",
    "\n",
    "**Description**: This is a notebook that iterates through directory files and runs a validation check on the links contained in Jupyter Notebooks. This notebook was written for Callysto internal use.\n",
    "\n",
    "**Usage**: Run this notebook in the parent directory containing the notebooks or in the directory itself.\n",
    "\n",
    "**Notes**: This notebook takes time and you will know when it is done by it's termination statement. It will return only error messages. It is only capable of handling conventional urls starting with https:// or www.\n",
    "\n",
    "Last Edited: June 16, 2020\n",
    "\n",
    "Author: LNC\n",
    "\n",
    "Contact: lisa.cao@cybera.ca"
   ]
  },
  {
   "cell_type": "code",
   "execution_count": null,
   "metadata": {},
   "outputs": [],
   "source": [
    "# run only once if needed\n",
    "# !pip3 install urllib3"
   ]
  },
  {
   "cell_type": "code",
   "execution_count": null,
   "metadata": {},
   "outputs": [],
   "source": [
    "import os\n",
    "import json\n",
    "import re\n",
    "import urllib3"
   ]
  },
  {
   "cell_type": "code",
   "execution_count": null,
   "metadata": {},
   "outputs": [],
   "source": [
    "## function to parse urls (from geeksforgeeks)\n",
    "def url_parse(string): \n",
    "    regex = r\"(?i)\\b((?:https?://|www\\d{0,3}[.]|[a-z0-9.\\-]+[.][a-z]{2,4}/)(?:[^\\s()<>]+|\\(([^\\s()<>]+|(\\([^\\s()<>]+\\)))*\\))+(?:\\(([^\\s()<>]+|(\\([^\\s()<>]+\\)))*\\)|[^\\s`!()\\[\\]{};:'\\\".,<>?«»“”‘’]))\"\n",
    "    url = re.findall(regex,string)       \n",
    "    return [x[0] for x in url] "
   ]
  },
  {
   "cell_type": "code",
   "execution_count": null,
   "metadata": {
    "scrolled": true
   },
   "outputs": [],
   "source": [
    "## search through all directories and parse cells\n",
    "def url_check():\n",
    "    for root, dirs, files in os.walk(\".\"):\n",
    "        for filename in files:\n",
    "            if filename.endswith('.ipynb'):\n",
    "                notebook_name = filename[:-6]\n",
    "                file = os.path.join(root, filename)\n",
    "                notebook = json.load(open(file))\n",
    "                cell_number = 0\n",
    "                for cell in notebook['cells']:\n",
    "                    cell_number += 1\n",
    "                    try:\n",
    "                        cell_contents = cell['source'][0]\n",
    "                    except IndexError: \n",
    "                        pass\n",
    "                    cell_urls = url_parse(cell_contents)\n",
    "                    for url in cell_urls: \n",
    "                        http = urllib3.PoolManager()\n",
    "                        valid_status = [200, 301, 302]\n",
    "                    try:\n",
    "                        req = http.request('GET', url, timeout = 5.0, retries = False)\n",
    "                        if req.status in valid_status:\n",
    "                            pass\n",
    "                        else: \n",
    "                            print(\"BROKEN URL in\",notebook_name, \": Cell\", cell_number, url, \"\\n    reason:\", req.status, \"\\n\")\n",
    "                    except Exception as e:\n",
    "                        print(\"BROKEN URL in\",notebook_name, \": Cell\", cell_number, url, \"\\n    reason:\", e, \"\\n\")\n",
    "    print(\".. CHECK COMPLETE\")"
   ]
  },
  {
   "cell_type": "code",
   "execution_count": 166,
   "metadata": {
    "scrolled": true
   },
   "outputs": [
    {
     "name": "stdout",
     "output_type": "stream",
     "text": [
      "BROKEN URL in link butcher-checkpoint : Cell 1 https://docs.python.org/3orial/errors.html \n",
      "    reason: 404 \n",
      "\n",
      "BROKEN URL in link butcher-checkpoint : Cell 2 https://ww.oogle.com/search?client=firefox-b-d&ei=a0jpXqDSBs-S0PEPr4i4yA4&q=does+try+block+require+except+python&oq=does+try+block+require+ex&gs_lcp=CgZwc3ktYWIQAxgAMgUIIRCgATIFCCEQoAEyBQghEKABOgQIABBHOgUIABCRAjoFCAAQgwE6BQgAELEDOgIIADoECAAQQzoECAAQCjoGCAAQFhAeOggIABAWEAoQHjoICAAQCBANEB46CAghEBYQHRAeOgQIIRAKUJQ8WLxhYOttaAJwA3gAgAF9iAHfEZIBBDI1LjKYAQCgAQGqAQdnd3Mtd2l6&sclient=psy-ab \n",
      "    reason: (<urllib3.connection.VerifiedHTTPSConnection object at 0x7f945f3a3c50>, 'Connection to ww.oogle.com timed out. (connect timeout=5.0)') \n",
      "\n",
      "BROKEN URL in link butcher-checkpoint : Cell 3 https://www.google&cd=&cad=rja&uact=8&ved=2ahUKEwjD15vxsYfqAhX9GDQIHeY2AXQQFjABegQIChAD&url=https%3A%2F%2Fwww.w3schools.com%2Fpython%2Fpython_try_except.asp&usg=AOvVaw0qFy-Jqf3Q5fKVHY-6plJr \n",
      "    reason: encoding with 'idna' codec failed (UnicodeError: label empty or too long) \n",
      "\n",
      "BROKEN URL in link butcher-checkpoint : Cell 4 https://www.google&cd=&cad=rja&uact=8&ved=2ahUKEwjD15vxsYfqAhX9GDQIHeY2AXQQFjABegQIChAD&url=https%3A%2F%2Fwww.w3schools.com%2Fpython%2Fpython_try_except.asp&usg=AOvVaw0qFy-Jqf3Q5fKVHY-6plJr \n",
      "    reason: encoding with 'idna' codec failed (UnicodeError: label empty or too long) \n",
      "\n",
      "BROKEN URL in link butcher-checkpoint : Cell 5 https://docs.python.org/3orial/errors.html \n",
      "    reason: 404 \n",
      "\n",
      "BROKEN URL in link butcher-checkpoint : Cell 6 https://docs.python.org/3orial/errors.html \n",
      "    reason: 404 \n",
      "\n",
      "BROKEN URL in link butcher-checkpoint : Cell 7 www.ejroaerarawr.net \n",
      "    reason: <urllib3.connection.HTTPConnection object at 0x7f945f1a8950>: Failed to establish a new connection: [Errno 8] nodename nor servname provided, or not known \n",
      "\n",
      "BROKEN URL in link-checker-checkpoint : Cell 1 www.ejroaerarawr.net \n",
      "    reason: <urllib3.connection.HTTPConnection object at 0x7f945f1a8cd0>: Failed to establish a new connection: [Errno 8] nodename nor servname provided, or not known \n",
      "\n",
      "BROKEN URL in link-checker-checkpoint : Cell 2 www.ejroaerarawr.net \n",
      "    reason: <urllib3.connection.HTTPConnection object at 0x7f945f1bb9d0>: Failed to establish a new connection: [Errno 8] nodename nor servname provided, or not known \n",
      "\n",
      "BROKEN URL in link-checker-checkpoint : Cell 3 www.ejroaerarawr.net \n",
      "    reason: <urllib3.connection.HTTPConnection object at 0x7f945f1bb190>: Failed to establish a new connection: [Errno 8] nodename nor servname provided, or not known \n",
      "\n",
      "BROKEN URL in link-checker-checkpoint : Cell 4 www.ejroaerarawr.net \n",
      "    reason: <urllib3.connection.HTTPConnection object at 0x7f945f1a8510>: Failed to establish a new connection: [Errno 8] nodename nor servname provided, or not known \n",
      "\n",
      "BROKEN URL in link-checker-checkpoint : Cell 5 www.ejroaerarawr.net \n",
      "    reason: <urllib3.connection.HTTPConnection object at 0x7f945f643610>: Failed to establish a new connection: [Errno 8] nodename nor servname provided, or not known \n",
      "\n",
      "BROKEN URL in link-checker-checkpoint : Cell 6 www.ejroaerarawr.net \n",
      "    reason: <urllib3.connection.HTTPConnection object at 0x7f945f3a3310>: Failed to establish a new connection: [Errno 8] nodename nor servname provided, or not known \n",
      "\n",
      "BROKEN URL in link-checker-checkpoint : Cell 7 www.ejroaerarawr.net \n",
      "    reason: <urllib3.connection.HTTPConnection object at 0x7f945f3a3b50>: Failed to establish a new connection: [Errno 8] nodename nor servname provided, or not known \n",
      "\n",
      ".. CHECK COMPLETE\n"
     ]
    }
   ],
   "source": [
    "url_check() "
   ]
  },
  {
   "cell_type": "code",
   "execution_count": null,
   "metadata": {},
   "outputs": [],
   "source": []
  }
 ],
 "metadata": {
  "kernelspec": {
   "display_name": "Python 3",
   "language": "python",
   "name": "python3"
  },
  "language_info": {
   "codemirror_mode": {
    "name": "ipython",
    "version": 3
   },
   "file_extension": ".py",
   "mimetype": "text/x-python",
   "name": "python",
   "nbconvert_exporter": "python",
   "pygments_lexer": "ipython3",
   "version": "3.7.6"
  }
 },
 "nbformat": 4,
 "nbformat_minor": 4
}
