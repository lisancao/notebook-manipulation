{
 "cells": [
  {
   "cell_type": "markdown",
   "metadata": {},
   "source": [
    "## Callysto Notebook Flagger (Java, HTML, iPython, Geogebra)\n",
    "\n",
    "**Description**: This is a notebook that iterates through directory files and returns whether or not they contain any javascript, html, ipython widgets, or geogebra references. It is being used for Jupyterlab migration and general bugfixing.\n",
    "\n",
    "**Usage**: Run this notebook in the parent directory containing the notebooks or in the directory itself.\n",
    "\n",
    "**Notes**: Generates output log\n",
    "\n",
    "Last Edited: June 25, 2020\n",
    "\n",
    "Author: LNC\n",
    "\n",
    "Contact: lisa.cao@cybera.ca"
   ]
  },
  {
   "cell_type": "code",
   "execution_count": 1,
   "metadata": {},
   "outputs": [],
   "source": [
    "#import libraries\n",
    "import os \n",
    "import re\n",
    "import json\n",
    "import pandas "
   ]
  },
  {
   "cell_type": "code",
   "execution_count": null,
   "metadata": {},
   "outputs": [],
   "source": [
    "#create datafame \n",
    "df = pd.DataFrame(columns=['Javascript', 'IPython', 'Geogebra', 'HTML'], rows=[\"Notebook\"])"
   ]
  },
  {
   "cell_type": "code",
   "execution_count": null,
   "metadata": {},
   "outputs": [],
   "source": [
    "def interactivity(string): \n",
    "    java = r\"\"\n",
    "    html = r\"\"\n",
    "    ggb = r\"\"\n",
    "    Ipython = r\"\" \n",
    "    tag = re.findall(regex,string) # find all instances      \n",
    "    return [x[0] for x in url] # append to list\n",
    "    regex = re.compile('|'.join(e))\n",
    "    path = [x for x in path if regex.search(x)]\n",
    "    return cell_number, path\n"
   ]
  },
  {
   "cell_type": "code",
   "execution_count": null,
   "metadata": {},
   "outputs": [],
   "source": [
    "## search through all directories and parse cells\n",
    "def NB_flag():\n",
    "    for root, dirs, files in os.walk(\".\"):\n",
    "        for filename in files:\n",
    "            if filename.endswith('.ipynb'): # select notebooks\n",
    "                file = os.path.join(root, filename)\n",
    "                notebook = json.load(open(file)) # load notebook json\n",
    "                cell_number = 0\n",
    "                for cell in notebook['cells']:\n",
    "                    cell_number += 1 # cell counter for output\n",
    "                    cell_contents = cell['source'][0] # parse json"
   ]
  },
  {
   "cell_type": "code",
   "execution_count": null,
   "metadata": {},
   "outputs": [],
   "source": [
    "\"\"\n",
    "                regex = re.compile('|'.join(e))\n",
    "                path = [x for x in path if regex.search(x)]\n",
    "    return cell_number, path\n",
    "\n",
    "\n",
    "df = df.append({\n",
    "    'Notebook':file,\n",
    "    'Cell Number':cell_number,\n",
    "    },\n",
    "    ignore_index=True)"
   ]
  }
 ],
 "metadata": {
  "kernelspec": {
   "display_name": "Python 3",
   "language": "python",
   "name": "python3"
  },
  "language_info": {
   "codemirror_mode": {
    "name": "ipython",
    "version": 3
   },
   "file_extension": ".py",
   "mimetype": "text/x-python",
   "name": "python",
   "nbconvert_exporter": "python",
   "pygments_lexer": "ipython3",
   "version": "3.7.6"
  }
 },
 "nbformat": 4,
 "nbformat_minor": 4
}
