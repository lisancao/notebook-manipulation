{
 "cells": [
  {
   "cell_type": "code",
   "execution_count": 4,
   "metadata": {},
   "outputs": [],
   "source": [
    "## search through all directories and parse cells\n",
    "\n",
    "import pandas as pd \n",
    "import os\n",
    "\n",
    "fn = pd.DataFrame()\n",
    "path = []\n",
    "for root, dirs, files in os.walk(\".\"):\n",
    "    for filename in files:\n",
    "        if filename.endswith('.ipynb'): # select notebooks\n",
    "            file = os.path.join(root, filename)\n",
    "            path.append(file)\n",
    "fn['path'] = path\n",
    "e = [\"checkpoint\", \"deprecated\", \"Untitled\"]\n",
    "fn = fn[~fn.path.str.contains('|'.join(e))]\n",
    "fn.to_csv(\"notebookpaths.csv\")"
   ]
  }
 ],
 "metadata": {
  "kernelspec": {
   "display_name": "Python 3",
   "language": "python",
   "name": "python3"
  },
  "language_info": {
   "codemirror_mode": {
    "name": "ipython",
    "version": 3
   },
   "file_extension": ".py",
   "mimetype": "text/x-python",
   "name": "python",
   "nbconvert_exporter": "python",
   "pygments_lexer": "ipython3",
   "version": "3.7.6"
  }
 },
 "nbformat": 4,
 "nbformat_minor": 4
}
