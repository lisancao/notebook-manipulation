{
 "cells": [
  {
   "cell_type": "markdown",
   "metadata": {},
   "source": [
    "## Callysto notebooks path indexing\n",
    "\n",
    "**Description**: This is a notebook that iterates through directory files and generates a .csv with all .ipynb filepaths. \n",
    "\n",
    "**Usage**: Run this notebook in the parent directory, by default I have a set of keywords stored in e that automatically excludes certain notebooks. \n",
    "\n",
    "**Notes**: The reason why they are stored in a column is for easy copy/pasting into a spreadsheet.\n",
    "\n",
    "Last Edited: June 24, 2020\n",
    "\n",
    "Author: LNC\n",
    "\n",
    "Contact: lisa.cao@cybera.ca"
   ]
  },
  {
   "cell_type": "code",
   "execution_count": null,
   "metadata": {},
   "outputs": [],
   "source": [
    "import pandas as pd # needed for csv\n",
    "import os \n",
    "import re # needed for list"
   ]
  },
  {
   "cell_type": "code",
   "execution_count": 17,
   "metadata": {},
   "outputs": [],
   "source": [
    "## search through all directories and parse paths and generate CSV\n",
    "def notebookpaths_csv():\n",
    "    fn = pd.DataFrame() #init empty DF\n",
    "    path = []\n",
    "    for root, dirs, files in os.walk(\".\"):\n",
    "        for filename in files:\n",
    "            if filename.endswith('.ipynb'): # select notebooks\n",
    "                file = os.path.join(root, filename)\n",
    "                path.append(file) #add to list\n",
    "    fn['path'] = path #list to col in fn\n",
    "    e = [\"checkpoint\", \"deprecated\", \"Untitled\"] #keywords to avoid\n",
    "    fn = fn[~fn.path.str.contains('|'.join(e))] #regex match and exclude\n",
    "    fn.to_csv(\"notebookpaths.csv\") #write to file\n",
    "    print(\"Filewrite complete\")\n",
    "    return fn"
   ]
  },
  {
   "cell_type": "code",
   "execution_count": null,
   "metadata": {},
   "outputs": [],
   "source": [
    "notebookpaths_csv()"
   ]
  },
  {
   "cell_type": "code",
   "execution_count": 18,
   "metadata": {},
   "outputs": [],
   "source": [
    "## search through all directories and parse paths and generate list\n",
    "def notebookpaths_list():\n",
    "    path = [] \n",
    "    for root, dirs, files in os.walk(\".\"): \n",
    "        for filename in files: \n",
    "            if filename.endswith('.ipynb'): # select notebooks \n",
    "                file = os.path.join(root, filename) \n",
    "                path.append(file) \n",
    "                e = [\"checkpoint\", \"deprecated\", \"Untitled\"]\n",
    "                regex = re.compile('|'.join(e))\n",
    "                path = [x for x in path if not regex.search(x)]\n",
    "    return path"
   ]
  },
  {
   "cell_type": "code",
   "execution_count": null,
   "metadata": {},
   "outputs": [],
   "source": [
    "notebookpaths_list()"
   ]
  }
 ],
 "metadata": {
  "kernelspec": {
   "display_name": "Python 3",
   "language": "python",
   "name": "python3"
  },
  "language_info": {
   "codemirror_mode": {
    "name": "ipython",
    "version": 3
   },
   "file_extension": ".py",
   "mimetype": "text/x-python",
   "name": "python",
   "nbconvert_exporter": "python",
   "pygments_lexer": "ipython3",
   "version": "3.7.6"
  }
 },
 "nbformat": 4,
 "nbformat_minor": 4
}
