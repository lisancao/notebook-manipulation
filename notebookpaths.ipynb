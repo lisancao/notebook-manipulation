{
 "cells": [
  {
   "cell_type": "code",
   "execution_count": 30,
   "metadata": {},
   "outputs": [],
   "source": [
    "## search through all directories and parse cells\n",
    "\n",
    "import pandas as pd \n",
    "import os\n",
    "\n",
    "fn = pd.DataFrame()\n",
    "path = []\n",
    "\n",
    "for root, dirs, files in os.walk(\".\"):\n",
    "    for filename in files:\n",
    "        if filename.endswith('.ipynb'): # select notebooks\n",
    "            file = os.path.join(root, filename)\n",
    "            path.append(file)"
   ]
  },
  {
   "cell_type": "code",
   "execution_count": 32,
   "metadata": {},
   "outputs": [],
   "source": [
    "fn['path'] = path"
   ]
  },
  {
   "cell_type": "code",
   "execution_count": 33,
   "metadata": {},
   "outputs": [
    {
     "data": {
      "text/html": [
       "<div>\n",
       "<style scoped>\n",
       "    .dataframe tbody tr th:only-of-type {\n",
       "        vertical-align: middle;\n",
       "    }\n",
       "\n",
       "    .dataframe tbody tr th {\n",
       "        vertical-align: top;\n",
       "    }\n",
       "\n",
       "    .dataframe thead th {\n",
       "        text-align: right;\n",
       "    }\n",
       "</style>\n",
       "<table border=\"1\" class=\"dataframe\">\n",
       "  <thead>\n",
       "    <tr style=\"text-align: right;\">\n",
       "      <th></th>\n",
       "      <th>path</th>\n",
       "    </tr>\n",
       "  </thead>\n",
       "  <tbody>\n",
       "    <tr>\n",
       "      <th>0</th>\n",
       "      <td>./notebooks-button-creator.ipynb</td>\n",
       "    </tr>\n",
       "    <tr>\n",
       "      <th>1</th>\n",
       "      <td>./Untitled.ipynb</td>\n",
       "    </tr>\n",
       "    <tr>\n",
       "      <th>2</th>\n",
       "      <td>./link-checker.ipynb</td>\n",
       "    </tr>\n",
       "    <tr>\n",
       "      <th>3</th>\n",
       "      <td>./Arts/MathematicsOfSound/mathematics-of-sound...</td>\n",
       "    </tr>\n",
       "    <tr>\n",
       "      <th>4</th>\n",
       "      <td>./Arts/MathematicsOfSound/.ipynb_checkpoints/m...</td>\n",
       "    </tr>\n",
       "    <tr>\n",
       "      <th>...</th>\n",
       "      <td>...</td>\n",
       "    </tr>\n",
       "    <tr>\n",
       "      <th>130</th>\n",
       "      <td>./deprecated_notebooks/CircleCircumference/.ip...</td>\n",
       "    </tr>\n",
       "    <tr>\n",
       "      <th>131</th>\n",
       "      <td>./deprecated_notebooks/CentralTendencyAndOutli...</td>\n",
       "    </tr>\n",
       "    <tr>\n",
       "      <th>132</th>\n",
       "      <td>./deprecated_notebooks/CentralTendencyAndOutli...</td>\n",
       "    </tr>\n",
       "    <tr>\n",
       "      <th>133</th>\n",
       "      <td>./EnglishLanguageArts/IntroductionToPoetry/poe...</td>\n",
       "    </tr>\n",
       "    <tr>\n",
       "      <th>134</th>\n",
       "      <td>./EnglishLanguageArts/IntroductionToPoetry/.ip...</td>\n",
       "    </tr>\n",
       "  </tbody>\n",
       "</table>\n",
       "<p>135 rows × 1 columns</p>\n",
       "</div>"
      ],
      "text/plain": [
       "                                                  path\n",
       "0                     ./notebooks-button-creator.ipynb\n",
       "1                                     ./Untitled.ipynb\n",
       "2                                 ./link-checker.ipynb\n",
       "3    ./Arts/MathematicsOfSound/mathematics-of-sound...\n",
       "4    ./Arts/MathematicsOfSound/.ipynb_checkpoints/m...\n",
       "..                                                 ...\n",
       "130  ./deprecated_notebooks/CircleCircumference/.ip...\n",
       "131  ./deprecated_notebooks/CentralTendencyAndOutli...\n",
       "132  ./deprecated_notebooks/CentralTendencyAndOutli...\n",
       "133  ./EnglishLanguageArts/IntroductionToPoetry/poe...\n",
       "134  ./EnglishLanguageArts/IntroductionToPoetry/.ip...\n",
       "\n",
       "[135 rows x 1 columns]"
      ]
     },
     "execution_count": 33,
     "metadata": {},
     "output_type": "execute_result"
    }
   ],
   "source": [
    "fn"
   ]
  },
  {
   "cell_type": "code",
   "execution_count": 58,
   "metadata": {},
   "outputs": [],
   "source": [
    "e = [\"checkpoint\", \"deprecated\", \"Untitled\"]\n",
    "\n",
    "fn = fn[~fn.path.str.contains('|'.join(e))]"
   ]
  },
  {
   "cell_type": "code",
   "execution_count": 59,
   "metadata": {},
   "outputs": [],
   "source": [
    "fn.to_csv(\"notebookpaths.csv\")"
   ]
  }
 ],
 "metadata": {
  "kernelspec": {
   "display_name": "Python 3",
   "language": "python",
   "name": "python3"
  },
  "language_info": {
   "codemirror_mode": {
    "name": "ipython",
    "version": 3
   },
   "file_extension": ".py",
   "mimetype": "text/x-python",
   "name": "python",
   "nbconvert_exporter": "python",
   "pygments_lexer": "ipython3",
   "version": "3.7.6"
  }
 },
 "nbformat": 4,
 "nbformat_minor": 4
}
