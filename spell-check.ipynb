{
 "cells": [
  {
   "cell_type": "markdown",
   "metadata": {},
   "source": [
    "![Callysto.ca Banner](https://github.com/callysto/curriculum-notebooks/blob/master/callysto-notebook-banner-top.jpg?raw=true)"
   ]
  },
  {
   "cell_type": "markdown",
   "metadata": {},
   "source": [
    "# Checking Notebook Spelling\n",
    "\n",
    "This notebook logs possible spelling errors in the notebooks in the current folder and any subfolders.\n",
    "\n",
    "First we'll create a DataFrame, `files_df` of all of the notebook files."
   ]
  },
  {
   "cell_type": "code",
   "execution_count": null,
   "metadata": {},
   "outputs": [],
   "source": [
    "import os\n",
    "import json\n",
    "import pandas as pd\n",
    "from spellchecker import SpellChecker\n",
    "spell = SpellChecker()\n",
    "\n",
    "file_df = pd.DataFrame()\n",
    "for root, dirs, files in os.walk(\".\"):\n",
    "    for filename in files:\n",
    "        if filename.endswith('.ipynb'):\n",
    "            if not 'checkpoint' in filename:\n",
    "                file = os.path.join(root, filename)\n",
    "                file_df = file_df.append({'File':file},ignore_index=True)\n"
   ]
  },
  {
   "cell_type": "markdown",
   "metadata": {},
   "source": [
    "Then we'll loop through that `file_df` DataFrame and log possible spelling errors to a new DataFrame called `corrections`.\n",
    "\n",
    "This takes a highly non-trivial amount of time. You may want to break it into chunks with `file_df.iloc[0:50].iterrows()`."
   ]
  },
  {
   "cell_type": "code",
   "execution_count": null,
   "metadata": {},
   "outputs": [],
   "source": [
    "corrections = pd.DataFrame(columns=['File','Paragraph','Word','Suggestion'])\n",
    "for i, row in file_df.iterrows():\n",
    "    file = row['File']\n",
    "    print(i, file)\n",
    "    notebook = json.load(open(file))\n",
    "    for cell in notebook['cells']:\n",
    "        if cell['cell_type'] == 'markdown':\n",
    "            if cell['source'][0][:20] != '![Callysto.ca Banner' and cell['source'][0][:22]!='[![Callysto.ca License':\n",
    "                for paragraph in cell['source']:\n",
    "                    for word in spell.split_words(paragraph):\n",
    "                        suggestion = spell.correction(word)\n",
    "                        if word != suggestion:\n",
    "                            corrections = corrections.append({'File':file,'Paragraph':paragraph,'Word':word,'Suggestion':suggestion},ignore_index=True)"
   ]
  },
  {
   "cell_type": "markdown",
   "metadata": {},
   "source": [
    "Then make a list of all of the files that require corrections."
   ]
  },
  {
   "cell_type": "code",
   "execution_count": null,
   "metadata": {},
   "outputs": [],
   "source": [
    "file_list = corrections['File'].unique()\n",
    "len(file_list)"
   ]
  },
  {
   "cell_type": "markdown",
   "metadata": {},
   "source": [
    "Once we start to look at the suggested corrections, though, we'll realize that there are many we should ignore. Let's create a new DataFrame, `new_corrections`, that doesn't include those words.\n",
    "\n",
    "As we come across new words that we don't want to change, we can add them to this list and re-run the cell."
   ]
  },
  {
   "cell_type": "code",
   "execution_count": null,
   "metadata": {},
   "outputs": [],
   "source": [
    "good_words = ['applet', 'numpy', 'other words that are actually correct']\n",
    "new_corrections = corrections\n",
    "for gw in good_words:\n",
    "    new_corrections = new_corrections[new_corrections['Word'] != gw]"
   ]
  },
  {
   "cell_type": "markdown",
   "metadata": {},
   "source": [
    "Now for the somewhat tedious part, displaying the words in a notebook that should to be corrected. This requires openning that notebook and making the corrections, then displaying corrections for the next notebook, `file_list[1]`, and repeating.\n",
    "\n",
    "As we find words that we don't want to correct, we can add them to `good_words` above so we don't need to keep scrolling past them.\n",
    "\n",
    "If there are more that 50 lines then they won't all display, use `[:49]` to display the first 50, then `[50:99]` to display the next 50."
   ]
  },
  {
   "cell_type": "code",
   "execution_count": null,
   "metadata": {
    "scrolled": false
   },
   "outputs": [],
   "source": [
    "new_corrections[new_corrections['File']==file_list[0]]#[50:99]"
   ]
  },
  {
   "cell_type": "markdown",
   "metadata": {},
   "source": [
    "[![Callysto.ca License](https://github.com/callysto/curriculum-notebooks/blob/master/callysto-notebook-banner-bottom.jpg?raw=true)](https://github.com/callysto/curriculum-notebooks/blob/master/LICENSE.md)"
   ]
  }
 ],
 "metadata": {
  "kernelspec": {
   "display_name": "Python 3",
   "language": "python",
   "name": "python3"
  },
  "language_info": {
   "codemirror_mode": {
    "name": "ipython",
    "version": 3
   },
   "file_extension": ".py",
   "mimetype": "text/x-python",
   "name": "python",
   "nbconvert_exporter": "python",
   "pygments_lexer": "ipython3",
   "version": "3.7.6"
  }
 },
 "nbformat": 4,
 "nbformat_minor": 4
}
